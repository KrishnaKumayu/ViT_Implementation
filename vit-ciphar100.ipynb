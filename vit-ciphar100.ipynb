{
 "cells": [
  {
   "cell_type": "markdown",
   "id": "e8ae3938",
   "metadata": {
    "id": "ExvFOPYTunv-",
    "papermill": {
     "duration": 0.004008,
     "end_time": "2025-01-30T12:41:28.371150",
     "exception": false,
     "start_time": "2025-01-30T12:41:28.367142",
     "status": "completed"
    },
    "tags": []
   },
   "source": [
    "### Importing Modules"
   ]
  },
  {
   "cell_type": "code",
   "execution_count": 1,
   "id": "7c86649e",
   "metadata": {
    "execution": {
     "iopub.execute_input": "2025-01-30T12:41:28.378694Z",
     "iopub.status.busy": "2025-01-30T12:41:28.378473Z",
     "iopub.status.idle": "2025-01-30T12:41:37.306126Z",
     "shell.execute_reply": "2025-01-30T12:41:37.305368Z"
    },
    "id": "2-jszLFyrrAB",
    "papermill": {
     "duration": 8.933196,
     "end_time": "2025-01-30T12:41:37.307842",
     "exception": false,
     "start_time": "2025-01-30T12:41:28.374646",
     "status": "completed"
    },
    "tags": []
   },
   "outputs": [],
   "source": [
    "import torch\n",
    "import pandas as pd\n",
    "from torch import nn\n",
    "from torch import optim\n",
    "from torch.utils.data import DataLoader, Dataset,random_split\n",
    "from torchvision import transforms, datasets\n",
    "from sklearn.model_selection import train_test_split\n",
    "import matplotlib.pyplot as plt\n",
    "import numpy as np\n",
    "import random\n",
    "import timeit\n",
    "from tqdm import tqdm\n",
    "from torchvision.datasets import CIFAR100\n",
    "import os"
   ]
  },
  {
   "cell_type": "markdown",
   "id": "09c5332b",
   "metadata": {
    "id": "reIg4vB6unwB",
    "papermill": {
     "duration": 0.003458,
     "end_time": "2025-01-30T12:41:37.318040",
     "exception": false,
     "start_time": "2025-01-30T12:41:37.314582",
     "status": "completed"
    },
    "tags": []
   },
   "source": [
    "### Setting the hyperparameters"
   ]
  },
  {
   "cell_type": "code",
   "execution_count": 2,
   "id": "2cff2423",
   "metadata": {
    "execution": {
     "iopub.execute_input": "2025-01-30T12:41:37.325737Z",
     "iopub.status.busy": "2025-01-30T12:41:37.325324Z",
     "iopub.status.idle": "2025-01-30T12:41:37.384494Z",
     "shell.execute_reply": "2025-01-30T12:41:37.383402Z"
    },
    "id": "J0LaR4EirrAC",
    "papermill": {
     "duration": 0.064431,
     "end_time": "2025-01-30T12:41:37.385931",
     "exception": false,
     "start_time": "2025-01-30T12:41:37.321500",
     "status": "completed"
    },
    "tags": []
   },
   "outputs": [],
   "source": [
    "RANDOM_SEED = 42\n",
    "BATCH_SIZE = 512\n",
    "EPOCHS = 60\n",
    "LEARNING_RATE = 1e-4\n",
    "NUM_CLASSES = 100 \n",
    "PATCH_SIZE = 4\n",
    "IMG_SIZE = 32  \n",
    "IN_CHANNELS = 3  \n",
    "NUM_HEADS = 8\n",
    "DROPOUT = 0.4\n",
    "HIDDEN_DIM = 768\n",
    "ADAM_WEIGHT_DECAY = 0\n",
    "ADAM_BETAS = (0.9, 0.999)\n",
    "ACTIVATION = \"gelu\"\n",
    "NUM_ENCODERS = 4\n",
    "EMBED_DIM = (PATCH_SIZE ** 2) * IN_CHANNELS  \n",
    "NUM_PATCHES = (IMG_SIZE // PATCH_SIZE) ** 2  \n",
    "\n",
    "random.seed(RANDOM_SEED)\n",
    "np.random.seed(RANDOM_SEED)\n",
    "torch.manual_seed(RANDOM_SEED)\n",
    "torch.cuda.manual_seed(RANDOM_SEED)\n",
    "torch.cuda.manual_seed_all(RANDOM_SEED)\n",
    "torch.backends.cudnn.deterministic = True\n",
    "torch.backends.cudnn.benchmark = False\n",
    "\n",
    "device = \"cuda\" if torch.cuda.is_available() else \"cpu\""
   ]
  },
  {
   "cell_type": "markdown",
   "id": "86eca50b",
   "metadata": {
    "id": "WnV9AIn9unwC",
    "papermill": {
     "duration": 0.003143,
     "end_time": "2025-01-30T12:41:37.392632",
     "exception": false,
     "start_time": "2025-01-30T12:41:37.389489",
     "status": "completed"
    },
    "tags": []
   },
   "source": [
    "### Patch Embedding with position embedding"
   ]
  },
  {
   "cell_type": "code",
   "execution_count": 3,
   "id": "194ff677",
   "metadata": {
    "execution": {
     "iopub.execute_input": "2025-01-30T12:41:37.400004Z",
     "iopub.status.busy": "2025-01-30T12:41:37.399744Z",
     "iopub.status.idle": "2025-01-30T12:41:38.125704Z",
     "shell.execute_reply": "2025-01-30T12:41:38.124591Z"
    },
    "id": "n1i1FKFIrrAC",
    "outputId": "ace5312d-49db-4062-d1f0-401e36f44d16",
    "papermill": {
     "duration": 0.731284,
     "end_time": "2025-01-30T12:41:38.127200",
     "exception": false,
     "start_time": "2025-01-30T12:41:37.395916",
     "status": "completed"
    },
    "tags": []
   },
   "outputs": [
    {
     "name": "stdout",
     "output_type": "stream",
     "text": [
      "torch.Size([512, 65, 48])\n"
     ]
    }
   ],
   "source": [
    "class PatchEmbedding(nn.Module):\n",
    "    def __init__(self, embed_dim, patch_size, num_patches, dropout, in_channels):\n",
    "        super().__init__()\n",
    "        self.patcher = nn.Sequential(\n",
    "            nn.Conv2d(\n",
    "                in_channels=in_channels,\n",
    "                out_channels=embed_dim,\n",
    "                kernel_size=patch_size,\n",
    "                stride=patch_size,\n",
    "            ),\n",
    "            nn.Flatten(2)\n",
    "        )\n",
    "\n",
    "        self.cls_token = nn.Parameter(torch.randn(1, 1, embed_dim), requires_grad=True)  \n",
    "        self.position_embeddings = nn.Parameter(torch.randn(1, num_patches + 1, embed_dim), requires_grad=True)\n",
    "        self.dropout = nn.Dropout(p=dropout)\n",
    "\n",
    "    def forward(self, x):\n",
    "        batch_size = x.shape[0]\n",
    "        cls_token = self.cls_token.expand(batch_size, -1, -1) \n",
    "\n",
    "        x = self.patcher(x).permute(0, 2, 1)  \n",
    "        x = torch.cat([cls_token, x], dim=1)  \n",
    "        x = self.position_embeddings + x  \n",
    "        x = self.dropout(x)\n",
    "        return x\n",
    "\n",
    "\n",
    "model = PatchEmbedding(EMBED_DIM, PATCH_SIZE, NUM_PATCHES, DROPOUT, IN_CHANNELS).to(device)\n",
    "\n",
    "\n",
    "x = torch.randn(512, 3, 32, 32).to(device) \n",
    "print(model(x).shape)  "
   ]
  },
  {
   "cell_type": "markdown",
   "id": "947c380a",
   "metadata": {
    "id": "ozjlaoBsunwD",
    "papermill": {
     "duration": 0.003236,
     "end_time": "2025-01-30T12:41:38.134166",
     "exception": false,
     "start_time": "2025-01-30T12:41:38.130930",
     "status": "completed"
    },
    "tags": []
   },
   "source": [
    "### VIT implementation with encoder and MLP"
   ]
  },
  {
   "cell_type": "code",
   "execution_count": 4,
   "id": "3a59f26a",
   "metadata": {
    "execution": {
     "iopub.execute_input": "2025-01-30T12:41:38.141672Z",
     "iopub.status.busy": "2025-01-30T12:41:38.141411Z",
     "iopub.status.idle": "2025-01-30T12:41:38.334811Z",
     "shell.execute_reply": "2025-01-30T12:41:38.333911Z"
    },
    "id": "40emKyeirrAD",
    "outputId": "efa34721-0f62-4bde-89f3-b58a31bd2e31",
    "papermill": {
     "duration": 0.198722,
     "end_time": "2025-01-30T12:41:38.336276",
     "exception": false,
     "start_time": "2025-01-30T12:41:38.137554",
     "status": "completed"
    },
    "tags": []
   },
   "outputs": [
    {
     "name": "stdout",
     "output_type": "stream",
     "text": [
      "torch.Size([512, 100])\n"
     ]
    },
    {
     "name": "stderr",
     "output_type": "stream",
     "text": [
      "/usr/local/lib/python3.10/dist-packages/torch/nn/modules/transformer.py:379: UserWarning: enable_nested_tensor is True, but self.use_nested_tensor is False because encoder_layer.norm_first was True\n",
      "  warnings.warn(\n"
     ]
    }
   ],
   "source": [
    "class ViT(nn.Module):\n",
    "    def __init__(self, num_patches, num_classes, patch_size, embed_dim, num_encoders, num_heads, hidden_dim, dropout, activation, in_channels):\n",
    "        super().__init__()\n",
    "        self.embeddings_block = PatchEmbedding(embed_dim, patch_size, num_patches, dropout, in_channels)\n",
    "\n",
    "        encoder_layer = nn.TransformerEncoderLayer(\n",
    "            d_model=embed_dim,\n",
    "            nhead=num_heads,\n",
    "            dropout=dropout,\n",
    "            activation=activation,\n",
    "            batch_first=True,\n",
    "            norm_first=True\n",
    "        )\n",
    "        self.encoder_blocks = nn.TransformerEncoder(encoder_layer, num_layers=num_encoders)\n",
    "\n",
    "        self.mlp_head = nn.Sequential(\n",
    "            nn.LayerNorm(normalized_shape=embed_dim),\n",
    "            nn.Linear(in_features=embed_dim, out_features=num_classes)\n",
    "        )\n",
    "\n",
    "    def forward(self, x):\n",
    "        x = self.embeddings_block(x)\n",
    "        x = self.encoder_blocks(x)\n",
    "        x = self.mlp_head(x[:, 0, :]) \n",
    "        return x\n",
    "\n",
    "\n",
    "model = ViT(NUM_PATCHES, NUM_CLASSES, PATCH_SIZE, EMBED_DIM, NUM_ENCODERS, NUM_HEADS, HIDDEN_DIM, DROPOUT, ACTIVATION, IN_CHANNELS).to(device)\n",
    "\n",
    "\n",
    "x = torch.randn(512, 3, 32, 32).to(device) \n",
    "print(model(x).shape)  "
   ]
  },
  {
   "cell_type": "markdown",
   "id": "0df19ba2",
   "metadata": {
    "id": "WOQ5kJTvunwE",
    "papermill": {
     "duration": 0.003391,
     "end_time": "2025-01-30T12:41:38.343490",
     "exception": false,
     "start_time": "2025-01-30T12:41:38.340099",
     "status": "completed"
    },
    "tags": []
   },
   "source": [
    "### Dataset Preparation"
   ]
  },
  {
   "cell_type": "code",
   "execution_count": 5,
   "id": "1508d06a",
   "metadata": {
    "execution": {
     "iopub.execute_input": "2025-01-30T12:41:38.351182Z",
     "iopub.status.busy": "2025-01-30T12:41:38.350944Z",
     "iopub.status.idle": "2025-01-30T12:41:41.258648Z",
     "shell.execute_reply": "2025-01-30T12:41:41.257770Z"
    },
    "id": "-lbqXWMCrrAD",
    "outputId": "438e3806-db7c-41f4-af92-568df79d4943",
    "papermill": {
     "duration": 2.913188,
     "end_time": "2025-01-30T12:41:41.260098",
     "exception": false,
     "start_time": "2025-01-30T12:41:38.346910",
     "status": "completed"
    },
    "tags": []
   },
   "outputs": [
    {
     "name": "stdout",
     "output_type": "stream",
     "text": [
      "Dataset successfully loaded!\n"
     ]
    }
   ],
   "source": [
    "\n",
    "extract_path = \"/kaggle/input/ciphar-100\"\n",
    "\n",
    "\n",
    "transform = transforms.Compose([\n",
    "    transforms.ToTensor(),\n",
    "    transforms.Normalize(mean=[0.5071, 0.4867, 0.4408], std=[0.2675, 0.2565, 0.2761])\n",
    "])\n",
    "\n",
    "\n",
    "train_dataset = datasets.CIFAR100(root=extract_path, train=True, transform=transform, download=False)\n",
    "test_dataset = datasets.CIFAR100(root=extract_path, train=False, transform=transform, download=False)\n",
    "\n",
    "\n",
    "train_size = int(0.9 * len(train_dataset))\n",
    "val_size = len(train_dataset) - train_size\n",
    "train_dataset, val_dataset = random_split(train_dataset, [train_size, val_size])\n",
    "\n",
    "\n",
    "BATCH_SIZE = 512\n",
    "train_loader = DataLoader(train_dataset, batch_size=BATCH_SIZE, shuffle=True, num_workers=4)\n",
    "val_loader = DataLoader(val_dataset, batch_size=BATCH_SIZE, shuffle=False, num_workers=4)\n",
    "test_loader = DataLoader(test_dataset, batch_size=BATCH_SIZE, shuffle=False, num_workers=4)\n",
    "\n",
    "print(\"Dataset successfully loaded!\")"
   ]
  },
  {
   "cell_type": "markdown",
   "id": "63e85b1b",
   "metadata": {
    "id": "sf4ikd3yunwF",
    "papermill": {
     "duration": 0.003472,
     "end_time": "2025-01-30T12:41:41.267635",
     "exception": false,
     "start_time": "2025-01-30T12:41:41.264163",
     "status": "completed"
    },
    "tags": []
   },
   "source": [
    "### Train Dataset"
   ]
  },
  {
   "cell_type": "code",
   "execution_count": 6,
   "id": "025749fd",
   "metadata": {
    "execution": {
     "iopub.execute_input": "2025-01-30T12:41:41.275705Z",
     "iopub.status.busy": "2025-01-30T12:41:41.275478Z",
     "iopub.status.idle": "2025-01-30T12:41:41.283449Z",
     "shell.execute_reply": "2025-01-30T12:41:41.282810Z"
    },
    "id": "cPp_Zxfs3Ar4",
    "jupyter": {
     "source_hidden": true
    },
    "papermill": {
     "duration": 0.013366,
     "end_time": "2025-01-30T12:41:41.284655",
     "exception": false,
     "start_time": "2025-01-30T12:41:41.271289",
     "status": "completed"
    },
    "tags": []
   },
   "outputs": [],
   "source": [
    "class CIFAR100TrainDataset(Dataset):\n",
    "    def __init__(self, dataset):\n",
    "        self.dataset = dataset\n",
    "        self.transform = transforms.Compose([\n",
    "            transforms.RandomCrop(32, padding=4),\n",
    "            transforms.RandomHorizontalFlip(),\n",
    "            transforms.RandomRotation(15),\n",
    "            transforms.ToTensor(),\n",
    "            transforms.Normalize(mean=[0.5071, 0.4867, 0.4408], std=[0.2675, 0.2565, 0.2761])\n",
    "        ])\n",
    "\n",
    "    def __len__(self):\n",
    "        return len(self.dataset)\n",
    "\n",
    "    def __getitem__(self, idx):\n",
    "        image, label = self.dataset[idx]\n",
    "        image = self.transform(image)\n",
    "        return {\"image\": image, \"label\": label, \"index\": idx}\n",
    "\n",
    "class CIFAR100ValDataset(Dataset):\n",
    "    def __init__(self, dataset):\n",
    "        self.dataset = dataset\n",
    "        self.transform = transforms.Compose([\n",
    "            transforms.ToTensor(),\n",
    "            transforms.Normalize(mean=[0.5071, 0.4867, 0.4408], std=[0.2675, 0.2565, 0.2761])\n",
    "        ])\n",
    "\n",
    "    def __len__(self):\n",
    "        return len(self.dataset)\n",
    "\n",
    "    def __getitem__(self, idx):\n",
    "        image, label = self.dataset[idx]\n",
    "        image = self.transform(image)\n",
    "        return {\"image\": image, \"label\": label, \"index\": idx}\n",
    "\n",
    "class CIFAR100TestDataset(Dataset):\n",
    "    def __init__(self, dataset):\n",
    "        self.dataset = dataset\n",
    "        self.transform = transforms.Compose([\n",
    "            transforms.ToTensor(),\n",
    "            transforms.Normalize(mean=[0.5071, 0.4867, 0.4408], std=[0.2675, 0.2565, 0.2761])\n",
    "        ])\n",
    "\n",
    "    def __len__(self):\n",
    "        return len(self.dataset)\n",
    "\n",
    "    def __getitem__(self, idx):\n",
    "        image, _ = self.dataset[idx]  \n",
    "        image = self.transform(image)\n",
    "        return {\"image\": image, \"index\": idx}"
   ]
  },
  {
   "cell_type": "markdown",
   "id": "0daeadfb",
   "metadata": {
    "id": "6I-slbQiunwG",
    "papermill": {
     "duration": 0.003349,
     "end_time": "2025-01-30T12:41:41.291650",
     "exception": false,
     "start_time": "2025-01-30T12:41:41.288301",
     "status": "completed"
    },
    "tags": []
   },
   "source": [
    "### Train Data Plot"
   ]
  },
  {
   "cell_type": "code",
   "execution_count": 7,
   "id": "30928eda",
   "metadata": {
    "execution": {
     "iopub.execute_input": "2025-01-30T12:41:41.299386Z",
     "iopub.status.busy": "2025-01-30T12:41:41.299178Z",
     "iopub.status.idle": "2025-01-30T12:41:41.781536Z",
     "shell.execute_reply": "2025-01-30T12:41:41.780646Z"
    },
    "id": "QdHQCfT2rrAE",
    "outputId": "ab97abcc-e3f7-4e71-a22b-34ed8dbcb999",
    "papermill": {
     "duration": 0.487671,
     "end_time": "2025-01-30T12:41:41.782802",
     "exception": false,
     "start_time": "2025-01-30T12:41:41.295131",
     "status": "completed"
    },
    "tags": []
   },
   "outputs": [
    {
     "data": {
      "text/plain": [
       "<Figure size 1000x500 with 0 Axes>"
      ]
     },
     "metadata": {},
     "output_type": "display_data"
    },
    {
     "data": {
      "image/png": "[encoded data removed]",
      "text/plain": [
       "<Figure size 1000x500 with 3 Axes>"
      ]
     },
     "metadata": {},
     "output_type": "display_data"
    }
   ],
   "source": [
    "\n",
    "train_idx = train_dataset.indices[0] if hasattr(train_dataset, 'indices') else 0\n",
    "val_idx = val_dataset.indices[0] if hasattr(val_dataset, 'indices') else 0\n",
    "\n",
    "train_sample, _ = train_dataset.dataset[train_idx]  \n",
    "val_sample, _ = val_dataset.dataset[val_idx]\n",
    "test_sample, _ = test_dataset[0]  \n",
    "\n",
    "\n",
    "train_sample = train_sample.permute(1, 2, 0).numpy()\n",
    "val_sample = val_sample.permute(1, 2, 0).numpy()\n",
    "test_sample = test_sample.permute(1, 2, 0).numpy()\n",
    "\n",
    "mean = np.array([0.5071, 0.4867, 0.4408])\n",
    "std = np.array([0.2675, 0.2565, 0.2761])\n",
    "\n",
    "train_sample = (train_sample * std + mean).clip(0, 1)\n",
    "val_sample = (val_sample * std + mean).clip(0, 1)\n",
    "test_sample = (test_sample * std + mean).clip(0, 1)\n",
    "\n",
    "plt.figure(figsize=(10, 5))\n",
    "f, axarr = plt.subplots(1, 3, figsize=(10, 5))\n",
    "\n",
    "axarr[0].imshow(train_sample)\n",
    "axarr[0].set_title(\"Train Image\")\n",
    "\n",
    "axarr[1].imshow(val_sample)\n",
    "axarr[1].set_title(\"Val Image\")\n",
    "\n",
    "axarr[2].imshow(test_sample)\n",
    "axarr[2].set_title(\"Test Image\")\n",
    "\n",
    "plt.show()"
   ]
  },
  {
   "cell_type": "markdown",
   "id": "30f6423b",
   "metadata": {
    "id": "B3E5OmyqunwG",
    "papermill": {
     "duration": 0.004263,
     "end_time": "2025-01-30T12:41:41.791996",
     "exception": false,
     "start_time": "2025-01-30T12:41:41.787733",
     "status": "completed"
    },
    "tags": []
   },
   "source": [
    "### Training the model"
   ]
  },
  {
   "cell_type": "code",
   "execution_count": 8,
   "id": "443b7b62",
   "metadata": {
    "execution": {
     "iopub.execute_input": "2025-01-30T12:41:41.800969Z",
     "iopub.status.busy": "2025-01-30T12:41:41.800698Z",
     "iopub.status.idle": "2025-01-30T12:54:00.798898Z",
     "shell.execute_reply": "2025-01-30T12:54:00.797988Z"
    },
    "id": "1OrPYP1krrAD",
    "outputId": "d040574e-66ec-43ce-8fdb-b62b743581bd",
    "papermill": {
     "duration": 739.004109,
     "end_time": "2025-01-30T12:54:00.800172",
     "exception": false,
     "start_time": "2025-01-30T12:41:41.796063",
     "status": "completed"
    },
    "tags": []
   },
   "outputs": [
    {
     "name": "stderr",
     "output_type": "stream",
     "text": [
      "100%|██████████| 88/88 [00:11<00:00,  7.44it/s]\n",
      "100%|██████████| 10/10 [00:00<00:00, 12.69it/s]\n",
      "  2%|▏         | 1/60 [00:12<12:24, 12.62s/it]"
     ]
    },
    {
     "name": "stdout",
     "output_type": "stream",
     "text": [
      "------------------------------\n",
      "Train Loss EPOCH 1: 4.6822\n",
      "Valid Loss EPOCH 1: 4.6007\n",
      "Train Accuracy EPOCH 1: 0.0101\n",
      "Valid Accuracy EPOCH 1: 0.0136\n",
      "------------------------------\n"
     ]
    },
    {
     "name": "stderr",
     "output_type": "stream",
     "text": [
      "100%|██████████| 88/88 [00:11<00:00,  7.71it/s]\n",
      "100%|██████████| 10/10 [00:00<00:00, 13.37it/s]\n",
      "  3%|▎         | 2/60 [00:24<11:56, 12.36s/it]"
     ]
    },
    {
     "name": "stdout",
     "output_type": "stream",
     "text": [
      "------------------------------\n",
      "Train Loss EPOCH 2: 4.6093\n",
      "Valid Loss EPOCH 2: 4.5486\n",
      "Train Accuracy EPOCH 2: 0.0149\n",
      "Valid Accuracy EPOCH 2: 0.0250\n",
      "------------------------------\n"
     ]
    },
    {
     "name": "stderr",
     "output_type": "stream",
     "text": [
      "100%|██████████| 88/88 [00:11<00:00,  7.71it/s]\n",
      "100%|██████████| 10/10 [00:00<00:00, 12.95it/s]\n",
      "  5%|▌         | 3/60 [00:36<11:40, 12.28s/it]"
     ]
    },
    {
     "name": "stdout",
     "output_type": "stream",
     "text": [
      "------------------------------\n",
      "Train Loss EPOCH 3: 4.5505\n",
      "Valid Loss EPOCH 3: 4.4707\n",
      "Train Accuracy EPOCH 3: 0.0200\n",
      "Valid Accuracy EPOCH 3: 0.0260\n",
      "------------------------------\n"
     ]
    },
    {
     "name": "stderr",
     "output_type": "stream",
     "text": [
      "100%|██████████| 88/88 [00:11<00:00,  7.67it/s]\n",
      "100%|██████████| 10/10 [00:00<00:00, 12.79it/s]\n",
      "  7%|▋         | 4/60 [00:49<11:27, 12.28s/it]"
     ]
    },
    {
     "name": "stdout",
     "output_type": "stream",
     "text": [
      "------------------------------\n",
      "Train Loss EPOCH 4: 4.4743\n",
      "Valid Loss EPOCH 4: 4.4048\n",
      "Train Accuracy EPOCH 4: 0.0282\n",
      "Valid Accuracy EPOCH 4: 0.0352\n",
      "------------------------------\n"
     ]
    },
    {
     "name": "stderr",
     "output_type": "stream",
     "text": [
      "100%|██████████| 88/88 [00:11<00:00,  7.70it/s]\n",
      "100%|██████████| 10/10 [00:00<00:00, 11.39it/s]\n",
      "  8%|▊         | 5/60 [01:01<11:16, 12.29s/it]"
     ]
    },
    {
     "name": "stdout",
     "output_type": "stream",
     "text": [
      "------------------------------\n",
      "Train Loss EPOCH 5: 4.4187\n",
      "Valid Loss EPOCH 5: 4.3594\n",
      "Train Accuracy EPOCH 5: 0.0309\n",
      "Valid Accuracy EPOCH 5: 0.0376\n",
      "------------------------------\n"
     ]
    },
    {
     "name": "stderr",
     "output_type": "stream",
     "text": [
      "100%|██████████| 88/88 [00:11<00:00,  7.67it/s]\n",
      "100%|██████████| 10/10 [00:00<00:00, 12.30it/s]\n",
      " 10%|█         | 6/60 [01:13<11:03, 12.29s/it]"
     ]
    },
    {
     "name": "stdout",
     "output_type": "stream",
     "text": [
      "------------------------------\n",
      "Train Loss EPOCH 6: 4.3795\n",
      "Valid Loss EPOCH 6: 4.3256\n",
      "Train Accuracy EPOCH 6: 0.0339\n",
      "Valid Accuracy EPOCH 6: 0.0418\n",
      "------------------------------\n"
     ]
    },
    {
     "name": "stderr",
     "output_type": "stream",
     "text": [
      "100%|██████████| 88/88 [00:11<00:00,  7.57it/s]\n",
      "100%|██████████| 10/10 [00:00<00:00, 13.34it/s]\n",
      " 12%|█▏        | 7/60 [01:26<10:52, 12.32s/it]"
     ]
    },
    {
     "name": "stdout",
     "output_type": "stream",
     "text": [
      "------------------------------\n",
      "Train Loss EPOCH 7: 4.3486\n",
      "Valid Loss EPOCH 7: 4.2969\n",
      "Train Accuracy EPOCH 7: 0.0355\n",
      "Valid Accuracy EPOCH 7: 0.0442\n",
      "------------------------------\n"
     ]
    },
    {
     "name": "stderr",
     "output_type": "stream",
     "text": [
      "100%|██████████| 88/88 [00:11<00:00,  7.66it/s]\n",
      "100%|██████████| 10/10 [00:00<00:00, 13.03it/s]\n",
      " 13%|█▎        | 8/60 [01:38<10:39, 12.30s/it]"
     ]
    },
    {
     "name": "stdout",
     "output_type": "stream",
     "text": [
      "------------------------------\n",
      "Train Loss EPOCH 8: 4.3209\n",
      "Valid Loss EPOCH 8: 4.2635\n",
      "Train Accuracy EPOCH 8: 0.0397\n",
      "Valid Accuracy EPOCH 8: 0.0440\n",
      "------------------------------\n"
     ]
    },
    {
     "name": "stderr",
     "output_type": "stream",
     "text": [
      "100%|██████████| 88/88 [00:11<00:00,  7.66it/s]\n",
      "100%|██████████| 10/10 [00:00<00:00, 12.50it/s]\n",
      " 15%|█▌        | 9/60 [01:50<10:27, 12.30s/it]"
     ]
    },
    {
     "name": "stdout",
     "output_type": "stream",
     "text": [
      "------------------------------\n",
      "Train Loss EPOCH 9: 4.2944\n",
      "Valid Loss EPOCH 9: 4.2433\n",
      "Train Accuracy EPOCH 9: 0.0417\n",
      "Valid Accuracy EPOCH 9: 0.0456\n",
      "------------------------------\n"
     ]
    },
    {
     "name": "stderr",
     "output_type": "stream",
     "text": [
      "100%|██████████| 88/88 [00:11<00:00,  7.60it/s]\n",
      "100%|██████████| 10/10 [00:00<00:00, 13.38it/s]\n",
      " 17%|█▋        | 10/60 [02:03<10:15, 12.31s/it]"
     ]
    },
    {
     "name": "stdout",
     "output_type": "stream",
     "text": [
      "------------------------------\n",
      "Train Loss EPOCH 10: 4.2711\n",
      "Valid Loss EPOCH 10: 4.2078\n",
      "Train Accuracy EPOCH 10: 0.0440\n",
      "Valid Accuracy EPOCH 10: 0.0474\n",
      "------------------------------\n"
     ]
    },
    {
     "name": "stderr",
     "output_type": "stream",
     "text": [
      "100%|██████████| 88/88 [00:11<00:00,  7.69it/s]\n",
      "100%|██████████| 10/10 [00:00<00:00, 12.55it/s]\n",
      " 18%|█▊        | 11/60 [02:15<10:02, 12.29s/it]"
     ]
    },
    {
     "name": "stdout",
     "output_type": "stream",
     "text": [
      "------------------------------\n",
      "Train Loss EPOCH 11: 4.2446\n",
      "Valid Loss EPOCH 11: 4.1805\n",
      "Train Accuracy EPOCH 11: 0.0460\n",
      "Valid Accuracy EPOCH 11: 0.0516\n",
      "------------------------------\n"
     ]
    },
    {
     "name": "stderr",
     "output_type": "stream",
     "text": [
      "100%|██████████| 88/88 [00:11<00:00,  7.68it/s]\n",
      "100%|██████████| 10/10 [00:00<00:00, 12.51it/s]\n",
      " 20%|██        | 12/60 [02:27<09:49, 12.29s/it]"
     ]
    },
    {
     "name": "stdout",
     "output_type": "stream",
     "text": [
      "------------------------------\n",
      "Train Loss EPOCH 12: 4.2184\n",
      "Valid Loss EPOCH 12: 4.1506\n",
      "Train Accuracy EPOCH 12: 0.0493\n",
      "Valid Accuracy EPOCH 12: 0.0540\n",
      "------------------------------\n"
     ]
    },
    {
     "name": "stderr",
     "output_type": "stream",
     "text": [
      "100%|██████████| 88/88 [00:11<00:00,  7.69it/s]\n",
      "100%|██████████| 10/10 [00:00<00:00, 13.01it/s]\n",
      " 22%|██▏       | 13/60 [02:39<09:36, 12.27s/it]"
     ]
    },
    {
     "name": "stdout",
     "output_type": "stream",
     "text": [
      "------------------------------\n",
      "Train Loss EPOCH 13: 4.1917\n",
      "Valid Loss EPOCH 13: 4.1199\n",
      "Train Accuracy EPOCH 13: 0.0522\n",
      "Valid Accuracy EPOCH 13: 0.0596\n",
      "------------------------------\n"
     ]
    },
    {
     "name": "stderr",
     "output_type": "stream",
     "text": [
      "100%|██████████| 88/88 [00:11<00:00,  7.64it/s]\n",
      "100%|██████████| 10/10 [00:00<00:00, 12.31it/s]\n",
      " 23%|██▎       | 14/60 [02:52<09:25, 12.29s/it]"
     ]
    },
    {
     "name": "stdout",
     "output_type": "stream",
     "text": [
      "------------------------------\n",
      "Train Loss EPOCH 14: 4.1624\n",
      "Valid Loss EPOCH 14: 4.0969\n",
      "Train Accuracy EPOCH 14: 0.0573\n",
      "Valid Accuracy EPOCH 14: 0.0642\n",
      "------------------------------\n"
     ]
    },
    {
     "name": "stderr",
     "output_type": "stream",
     "text": [
      "100%|██████████| 88/88 [00:11<00:00,  7.62it/s]\n",
      "100%|██████████| 10/10 [00:00<00:00, 12.74it/s]\n",
      " 25%|██▌       | 15/60 [03:04<09:13, 12.30s/it]"
     ]
    },
    {
     "name": "stdout",
     "output_type": "stream",
     "text": [
      "------------------------------\n",
      "Train Loss EPOCH 15: 4.1312\n",
      "Valid Loss EPOCH 15: 4.0713\n",
      "Train Accuracy EPOCH 15: 0.0606\n",
      "Valid Accuracy EPOCH 15: 0.0706\n",
      "------------------------------\n"
     ]
    },
    {
     "name": "stderr",
     "output_type": "stream",
     "text": [
      "100%|██████████| 88/88 [00:11<00:00,  7.66it/s]\n",
      "100%|██████████| 10/10 [00:00<00:00, 13.03it/s]\n",
      " 27%|██▋       | 16/60 [03:16<09:00, 12.29s/it]"
     ]
    },
    {
     "name": "stdout",
     "output_type": "stream",
     "text": [
      "------------------------------\n",
      "Train Loss EPOCH 16: 4.1004\n",
      "Valid Loss EPOCH 16: 4.0274\n",
      "Train Accuracy EPOCH 16: 0.0653\n",
      "Valid Accuracy EPOCH 16: 0.0752\n",
      "------------------------------\n"
     ]
    },
    {
     "name": "stderr",
     "output_type": "stream",
     "text": [
      "100%|██████████| 88/88 [00:11<00:00,  7.63it/s]\n",
      "100%|██████████| 10/10 [00:00<00:00, 12.78it/s]\n",
      " 28%|██▊       | 17/60 [03:29<08:49, 12.30s/it]"
     ]
    },
    {
     "name": "stdout",
     "output_type": "stream",
     "text": [
      "------------------------------\n",
      "Train Loss EPOCH 17: 4.0686\n",
      "Valid Loss EPOCH 17: 4.0287\n",
      "Train Accuracy EPOCH 17: 0.0694\n",
      "Valid Accuracy EPOCH 17: 0.0730\n",
      "------------------------------\n"
     ]
    },
    {
     "name": "stderr",
     "output_type": "stream",
     "text": [
      "100%|██████████| 88/88 [00:11<00:00,  7.68it/s]\n",
      "100%|██████████| 10/10 [00:00<00:00, 11.10it/s]\n",
      " 30%|███       | 18/60 [03:41<08:37, 12.32s/it]"
     ]
    },
    {
     "name": "stdout",
     "output_type": "stream",
     "text": [
      "------------------------------\n",
      "Train Loss EPOCH 18: 4.0443\n",
      "Valid Loss EPOCH 18: 3.9947\n",
      "Train Accuracy EPOCH 18: 0.0735\n",
      "Valid Accuracy EPOCH 18: 0.0776\n",
      "------------------------------\n"
     ]
    },
    {
     "name": "stderr",
     "output_type": "stream",
     "text": [
      "100%|██████████| 88/88 [00:11<00:00,  7.67it/s]\n",
      "100%|██████████| 10/10 [00:00<00:00, 12.21it/s]\n",
      " 32%|███▏      | 19/60 [03:53<08:24, 12.32s/it]"
     ]
    },
    {
     "name": "stdout",
     "output_type": "stream",
     "text": [
      "------------------------------\n",
      "Train Loss EPOCH 19: 4.0178\n",
      "Valid Loss EPOCH 19: 4.0016\n",
      "Train Accuracy EPOCH 19: 0.0754\n",
      "Valid Accuracy EPOCH 19: 0.0764\n",
      "------------------------------\n"
     ]
    },
    {
     "name": "stderr",
     "output_type": "stream",
     "text": [
      "100%|██████████| 88/88 [00:11<00:00,  7.56it/s]\n",
      "100%|██████████| 10/10 [00:00<00:00, 12.67it/s]\n",
      " 33%|███▎      | 20/60 [04:06<08:14, 12.36s/it]"
     ]
    },
    {
     "name": "stdout",
     "output_type": "stream",
     "text": [
      "------------------------------\n",
      "Train Loss EPOCH 20: 3.9989\n",
      "Valid Loss EPOCH 20: 3.9820\n",
      "Train Accuracy EPOCH 20: 0.0778\n",
      "Valid Accuracy EPOCH 20: 0.0784\n",
      "------------------------------\n"
     ]
    },
    {
     "name": "stderr",
     "output_type": "stream",
     "text": [
      "100%|██████████| 88/88 [00:11<00:00,  7.65it/s]\n",
      "100%|██████████| 10/10 [00:00<00:00, 12.54it/s]\n",
      " 35%|███▌      | 21/60 [04:18<08:01, 12.34s/it]"
     ]
    },
    {
     "name": "stdout",
     "output_type": "stream",
     "text": [
      "------------------------------\n",
      "Train Loss EPOCH 21: 3.9813\n",
      "Valid Loss EPOCH 21: 3.9718\n",
      "Train Accuracy EPOCH 21: 0.0807\n",
      "Valid Accuracy EPOCH 21: 0.0808\n",
      "------------------------------\n"
     ]
    },
    {
     "name": "stderr",
     "output_type": "stream",
     "text": [
      "100%|██████████| 88/88 [00:11<00:00,  7.64it/s]\n",
      "100%|██████████| 10/10 [00:00<00:00, 11.98it/s]\n",
      " 37%|███▋      | 22/60 [04:30<07:49, 12.35s/it]"
     ]
    },
    {
     "name": "stdout",
     "output_type": "stream",
     "text": [
      "------------------------------\n",
      "Train Loss EPOCH 22: 3.9676\n",
      "Valid Loss EPOCH 22: 3.9570\n",
      "Train Accuracy EPOCH 22: 0.0834\n",
      "Valid Accuracy EPOCH 22: 0.0812\n",
      "------------------------------\n"
     ]
    },
    {
     "name": "stderr",
     "output_type": "stream",
     "text": [
      "100%|██████████| 88/88 [00:11<00:00,  7.61it/s]\n",
      "100%|██████████| 10/10 [00:00<00:00, 12.40it/s]\n",
      " 38%|███▊      | 23/60 [04:43<07:37, 12.36s/it]"
     ]
    },
    {
     "name": "stdout",
     "output_type": "stream",
     "text": [
      "------------------------------\n",
      "Train Loss EPOCH 23: 3.9533\n",
      "Valid Loss EPOCH 23: 3.9327\n",
      "Train Accuracy EPOCH 23: 0.0851\n",
      "Valid Accuracy EPOCH 23: 0.0890\n",
      "------------------------------\n"
     ]
    },
    {
     "name": "stderr",
     "output_type": "stream",
     "text": [
      "100%|██████████| 88/88 [00:11<00:00,  7.66it/s]\n",
      "100%|██████████| 10/10 [00:00<00:00, 12.28it/s]\n",
      " 40%|████      | 24/60 [04:55<07:24, 12.35s/it]"
     ]
    },
    {
     "name": "stdout",
     "output_type": "stream",
     "text": [
      "------------------------------\n",
      "Train Loss EPOCH 24: 3.9367\n",
      "Valid Loss EPOCH 24: 3.9412\n",
      "Train Accuracy EPOCH 24: 0.0871\n",
      "Valid Accuracy EPOCH 24: 0.0868\n",
      "------------------------------\n"
     ]
    },
    {
     "name": "stderr",
     "output_type": "stream",
     "text": [
      "100%|██████████| 88/88 [00:11<00:00,  7.62it/s]\n",
      "100%|██████████| 10/10 [00:00<00:00, 12.32it/s]\n",
      " 42%|████▏     | 25/60 [05:08<07:12, 12.35s/it]"
     ]
    },
    {
     "name": "stdout",
     "output_type": "stream",
     "text": [
      "------------------------------\n",
      "Train Loss EPOCH 25: 3.9209\n",
      "Valid Loss EPOCH 25: 3.9092\n",
      "Train Accuracy EPOCH 25: 0.0893\n",
      "Valid Accuracy EPOCH 25: 0.0898\n",
      "------------------------------\n"
     ]
    },
    {
     "name": "stderr",
     "output_type": "stream",
     "text": [
      "100%|██████████| 88/88 [00:11<00:00,  7.67it/s]\n",
      "100%|██████████| 10/10 [00:00<00:00, 12.32it/s]\n",
      " 43%|████▎     | 26/60 [05:20<06:59, 12.34s/it]"
     ]
    },
    {
     "name": "stdout",
     "output_type": "stream",
     "text": [
      "------------------------------\n",
      "Train Loss EPOCH 26: 3.9093\n",
      "Valid Loss EPOCH 26: 3.9382\n",
      "Train Accuracy EPOCH 26: 0.0914\n",
      "Valid Accuracy EPOCH 26: 0.0856\n",
      "------------------------------\n"
     ]
    },
    {
     "name": "stderr",
     "output_type": "stream",
     "text": [
      "100%|██████████| 88/88 [00:11<00:00,  7.66it/s]\n",
      "100%|██████████| 10/10 [00:00<00:00, 12.23it/s]\n",
      " 45%|████▌     | 27/60 [05:32<06:46, 12.33s/it]"
     ]
    },
    {
     "name": "stdout",
     "output_type": "stream",
     "text": [
      "------------------------------\n",
      "Train Loss EPOCH 27: 3.8987\n",
      "Valid Loss EPOCH 27: 3.9526\n",
      "Train Accuracy EPOCH 27: 0.0912\n",
      "Valid Accuracy EPOCH 27: 0.0868\n",
      "------------------------------\n"
     ]
    },
    {
     "name": "stderr",
     "output_type": "stream",
     "text": [
      "100%|██████████| 88/88 [00:11<00:00,  7.69it/s]\n",
      "100%|██████████| 10/10 [00:00<00:00, 12.96it/s]\n",
      " 47%|████▋     | 28/60 [05:44<06:33, 12.30s/it]"
     ]
    },
    {
     "name": "stdout",
     "output_type": "stream",
     "text": [
      "------------------------------\n",
      "Train Loss EPOCH 28: 3.8874\n",
      "Valid Loss EPOCH 28: 3.9284\n",
      "Train Accuracy EPOCH 28: 0.0931\n",
      "Valid Accuracy EPOCH 28: 0.0926\n",
      "------------------------------\n"
     ]
    },
    {
     "name": "stderr",
     "output_type": "stream",
     "text": [
      "100%|██████████| 88/88 [00:11<00:00,  7.69it/s]\n",
      "100%|██████████| 10/10 [00:00<00:00, 13.32it/s]\n",
      " 48%|████▊     | 29/60 [05:57<06:20, 12.27s/it]"
     ]
    },
    {
     "name": "stdout",
     "output_type": "stream",
     "text": [
      "------------------------------\n",
      "Train Loss EPOCH 29: 3.8754\n",
      "Valid Loss EPOCH 29: 3.8857\n",
      "Train Accuracy EPOCH 29: 0.0949\n",
      "Valid Accuracy EPOCH 29: 0.0948\n",
      "------------------------------\n"
     ]
    },
    {
     "name": "stderr",
     "output_type": "stream",
     "text": [
      "100%|██████████| 88/88 [00:11<00:00,  7.66it/s]\n",
      "100%|██████████| 10/10 [00:00<00:00, 12.35it/s]\n",
      " 50%|█████     | 30/60 [06:09<06:08, 12.28s/it]"
     ]
    },
    {
     "name": "stdout",
     "output_type": "stream",
     "text": [
      "------------------------------\n",
      "Train Loss EPOCH 30: 3.8657\n",
      "Valid Loss EPOCH 30: 3.8987\n",
      "Train Accuracy EPOCH 30: 0.0944\n",
      "Valid Accuracy EPOCH 30: 0.0950\n",
      "------------------------------\n"
     ]
    },
    {
     "name": "stderr",
     "output_type": "stream",
     "text": [
      "100%|██████████| 88/88 [00:11<00:00,  7.65it/s]\n",
      "100%|██████████| 10/10 [00:00<00:00, 12.10it/s]\n",
      " 52%|█████▏    | 31/60 [06:21<05:56, 12.30s/it]"
     ]
    },
    {
     "name": "stdout",
     "output_type": "stream",
     "text": [
      "------------------------------\n",
      "Train Loss EPOCH 31: 3.8534\n",
      "Valid Loss EPOCH 31: 3.9062\n",
      "Train Accuracy EPOCH 31: 0.0979\n",
      "Valid Accuracy EPOCH 31: 0.0974\n",
      "------------------------------\n"
     ]
    },
    {
     "name": "stderr",
     "output_type": "stream",
     "text": [
      "100%|██████████| 88/88 [00:11<00:00,  7.68it/s]\n",
      "100%|██████████| 10/10 [00:00<00:00, 12.27it/s]\n",
      " 53%|█████▎    | 32/60 [06:34<05:44, 12.30s/it]"
     ]
    },
    {
     "name": "stdout",
     "output_type": "stream",
     "text": [
      "------------------------------\n",
      "Train Loss EPOCH 32: 3.8482\n",
      "Valid Loss EPOCH 32: 3.8627\n",
      "Train Accuracy EPOCH 32: 0.0995\n",
      "Valid Accuracy EPOCH 32: 0.0998\n",
      "------------------------------\n"
     ]
    },
    {
     "name": "stderr",
     "output_type": "stream",
     "text": [
      "100%|██████████| 88/88 [00:11<00:00,  7.61it/s]\n",
      "100%|██████████| 10/10 [00:00<00:00, 13.07it/s]\n",
      " 55%|█████▌    | 33/60 [06:46<05:32, 12.31s/it]"
     ]
    },
    {
     "name": "stdout",
     "output_type": "stream",
     "text": [
      "------------------------------\n",
      "Train Loss EPOCH 33: 3.8314\n",
      "Valid Loss EPOCH 33: 3.8384\n",
      "Train Accuracy EPOCH 33: 0.1015\n",
      "Valid Accuracy EPOCH 33: 0.1028\n",
      "------------------------------\n"
     ]
    },
    {
     "name": "stderr",
     "output_type": "stream",
     "text": [
      "100%|██████████| 88/88 [00:11<00:00,  7.67it/s]\n",
      "100%|██████████| 10/10 [00:00<00:00, 12.59it/s]\n",
      " 57%|█████▋    | 34/60 [06:58<05:19, 12.30s/it]"
     ]
    },
    {
     "name": "stdout",
     "output_type": "stream",
     "text": [
      "------------------------------\n",
      "Train Loss EPOCH 34: 3.8254\n",
      "Valid Loss EPOCH 34: 3.8732\n",
      "Train Accuracy EPOCH 34: 0.1032\n",
      "Valid Accuracy EPOCH 34: 0.1024\n",
      "------------------------------\n"
     ]
    },
    {
     "name": "stderr",
     "output_type": "stream",
     "text": [
      "100%|██████████| 88/88 [00:11<00:00,  7.65it/s]\n",
      "100%|██████████| 10/10 [00:00<00:00, 12.33it/s]\n",
      " 58%|█████▊    | 35/60 [07:10<05:07, 12.31s/it]"
     ]
    },
    {
     "name": "stdout",
     "output_type": "stream",
     "text": [
      "------------------------------\n",
      "Train Loss EPOCH 35: 3.8154\n",
      "Valid Loss EPOCH 35: 3.8448\n",
      "Train Accuracy EPOCH 35: 0.1037\n",
      "Valid Accuracy EPOCH 35: 0.1038\n",
      "------------------------------\n"
     ]
    },
    {
     "name": "stderr",
     "output_type": "stream",
     "text": [
      "100%|██████████| 88/88 [00:11<00:00,  7.64it/s]\n",
      "100%|██████████| 10/10 [00:00<00:00, 12.88it/s]\n",
      " 60%|██████    | 36/60 [07:23<04:55, 12.30s/it]"
     ]
    },
    {
     "name": "stdout",
     "output_type": "stream",
     "text": [
      "------------------------------\n",
      "Train Loss EPOCH 36: 3.8031\n",
      "Valid Loss EPOCH 36: 3.8174\n",
      "Train Accuracy EPOCH 36: 0.1059\n",
      "Valid Accuracy EPOCH 36: 0.1072\n",
      "------------------------------\n"
     ]
    },
    {
     "name": "stderr",
     "output_type": "stream",
     "text": [
      "100%|██████████| 88/88 [00:11<00:00,  7.66it/s]\n",
      "100%|██████████| 10/10 [00:00<00:00, 13.26it/s]\n",
      " 62%|██████▏   | 37/60 [07:35<04:42, 12.29s/it]"
     ]
    },
    {
     "name": "stdout",
     "output_type": "stream",
     "text": [
      "------------------------------\n",
      "Train Loss EPOCH 37: 3.7956\n",
      "Valid Loss EPOCH 37: 3.8126\n",
      "Train Accuracy EPOCH 37: 0.1067\n",
      "Valid Accuracy EPOCH 37: 0.1052\n",
      "------------------------------\n"
     ]
    },
    {
     "name": "stderr",
     "output_type": "stream",
     "text": [
      "100%|██████████| 88/88 [00:11<00:00,  7.64it/s]\n",
      "100%|██████████| 10/10 [00:00<00:00, 12.97it/s]\n",
      " 63%|██████▎   | 38/60 [07:47<04:30, 12.30s/it]"
     ]
    },
    {
     "name": "stdout",
     "output_type": "stream",
     "text": [
      "------------------------------\n",
      "Train Loss EPOCH 38: 3.7824\n",
      "Valid Loss EPOCH 38: 3.7992\n",
      "Train Accuracy EPOCH 38: 0.1109\n",
      "Valid Accuracy EPOCH 38: 0.1072\n",
      "------------------------------\n"
     ]
    },
    {
     "name": "stderr",
     "output_type": "stream",
     "text": [
      "100%|██████████| 88/88 [00:11<00:00,  7.66it/s]\n",
      "100%|██████████| 10/10 [00:00<00:00, 12.40it/s]\n",
      " 65%|██████▌   | 39/60 [08:00<04:18, 12.30s/it]"
     ]
    },
    {
     "name": "stdout",
     "output_type": "stream",
     "text": [
      "------------------------------\n",
      "Train Loss EPOCH 39: 3.7730\n",
      "Valid Loss EPOCH 39: 3.7908\n",
      "Train Accuracy EPOCH 39: 0.1090\n",
      "Valid Accuracy EPOCH 39: 0.1090\n",
      "------------------------------\n"
     ]
    },
    {
     "name": "stderr",
     "output_type": "stream",
     "text": [
      "100%|██████████| 88/88 [00:11<00:00,  7.65it/s]\n",
      "100%|██████████| 10/10 [00:00<00:00, 12.79it/s]\n",
      " 67%|██████▋   | 40/60 [08:12<04:05, 12.30s/it]"
     ]
    },
    {
     "name": "stdout",
     "output_type": "stream",
     "text": [
      "------------------------------\n",
      "Train Loss EPOCH 40: 3.7660\n",
      "Valid Loss EPOCH 40: 3.7938\n",
      "Train Accuracy EPOCH 40: 0.1134\n",
      "Valid Accuracy EPOCH 40: 0.1106\n",
      "------------------------------\n"
     ]
    },
    {
     "name": "stderr",
     "output_type": "stream",
     "text": [
      "100%|██████████| 88/88 [00:11<00:00,  7.68it/s]\n",
      "100%|██████████| 10/10 [00:00<00:00, 12.78it/s]\n",
      " 68%|██████▊   | 41/60 [08:24<03:53, 12.28s/it]"
     ]
    },
    {
     "name": "stdout",
     "output_type": "stream",
     "text": [
      "------------------------------\n",
      "Train Loss EPOCH 41: 3.7562\n",
      "Valid Loss EPOCH 41: 3.7775\n",
      "Train Accuracy EPOCH 41: 0.1153\n",
      "Valid Accuracy EPOCH 41: 0.1124\n",
      "------------------------------\n"
     ]
    },
    {
     "name": "stderr",
     "output_type": "stream",
     "text": [
      "100%|██████████| 88/88 [00:11<00:00,  7.66it/s]\n",
      "100%|██████████| 10/10 [00:00<00:00, 12.70it/s]\n",
      " 70%|███████   | 42/60 [08:36<03:41, 12.28s/it]"
     ]
    },
    {
     "name": "stdout",
     "output_type": "stream",
     "text": [
      "------------------------------\n",
      "Train Loss EPOCH 42: 3.7461\n",
      "Valid Loss EPOCH 42: 3.8067\n",
      "Train Accuracy EPOCH 42: 0.1128\n",
      "Valid Accuracy EPOCH 42: 0.1080\n",
      "------------------------------\n"
     ]
    },
    {
     "name": "stderr",
     "output_type": "stream",
     "text": [
      "100%|██████████| 88/88 [00:11<00:00,  7.66it/s]\n",
      "100%|██████████| 10/10 [00:00<00:00, 12.47it/s]\n",
      " 72%|███████▏  | 43/60 [08:49<03:28, 12.29s/it]"
     ]
    },
    {
     "name": "stdout",
     "output_type": "stream",
     "text": [
      "------------------------------\n",
      "Train Loss EPOCH 43: 3.7358\n",
      "Valid Loss EPOCH 43: 3.7510\n",
      "Train Accuracy EPOCH 43: 0.1184\n",
      "Valid Accuracy EPOCH 43: 0.1142\n",
      "------------------------------\n"
     ]
    },
    {
     "name": "stderr",
     "output_type": "stream",
     "text": [
      "100%|██████████| 88/88 [00:11<00:00,  7.66it/s]\n",
      "100%|██████████| 10/10 [00:00<00:00, 12.27it/s]\n",
      " 73%|███████▎  | 44/60 [09:01<03:16, 12.30s/it]"
     ]
    },
    {
     "name": "stdout",
     "output_type": "stream",
     "text": [
      "------------------------------\n",
      "Train Loss EPOCH 44: 3.7269\n",
      "Valid Loss EPOCH 44: 3.7680\n",
      "Train Accuracy EPOCH 44: 0.1178\n",
      "Valid Accuracy EPOCH 44: 0.1144\n",
      "------------------------------\n"
     ]
    },
    {
     "name": "stderr",
     "output_type": "stream",
     "text": [
      "100%|██████████| 88/88 [00:11<00:00,  7.64it/s]\n",
      "100%|██████████| 10/10 [00:00<00:00, 12.23it/s]\n",
      " 75%|███████▌  | 45/60 [09:13<03:04, 12.31s/it]"
     ]
    },
    {
     "name": "stdout",
     "output_type": "stream",
     "text": [
      "------------------------------\n",
      "Train Loss EPOCH 45: 3.7145\n",
      "Valid Loss EPOCH 45: 3.7348\n",
      "Train Accuracy EPOCH 45: 0.1212\n",
      "Valid Accuracy EPOCH 45: 0.1192\n",
      "------------------------------\n"
     ]
    },
    {
     "name": "stderr",
     "output_type": "stream",
     "text": [
      "100%|██████████| 88/88 [00:11<00:00,  7.58it/s]\n",
      "100%|██████████| 10/10 [00:00<00:00, 13.09it/s]\n",
      " 77%|███████▋  | 46/60 [09:26<02:52, 12.33s/it]"
     ]
    },
    {
     "name": "stdout",
     "output_type": "stream",
     "text": [
      "------------------------------\n",
      "Train Loss EPOCH 46: 3.7049\n",
      "Valid Loss EPOCH 46: 3.7272\n",
      "Train Accuracy EPOCH 46: 0.1203\n",
      "Valid Accuracy EPOCH 46: 0.1148\n",
      "------------------------------\n"
     ]
    },
    {
     "name": "stderr",
     "output_type": "stream",
     "text": [
      "100%|██████████| 88/88 [00:11<00:00,  7.65it/s]\n",
      "100%|██████████| 10/10 [00:00<00:00, 12.26it/s]\n",
      " 78%|███████▊  | 47/60 [09:38<02:40, 12.33s/it]"
     ]
    },
    {
     "name": "stdout",
     "output_type": "stream",
     "text": [
      "------------------------------\n",
      "Train Loss EPOCH 47: 3.6988\n",
      "Valid Loss EPOCH 47: 3.7365\n",
      "Train Accuracy EPOCH 47: 0.1229\n",
      "Valid Accuracy EPOCH 47: 0.1182\n",
      "------------------------------\n"
     ]
    },
    {
     "name": "stderr",
     "output_type": "stream",
     "text": [
      "100%|██████████| 88/88 [00:11<00:00,  7.64it/s]\n",
      "100%|██████████| 10/10 [00:00<00:00, 11.99it/s]\n",
      " 80%|████████  | 48/60 [09:50<02:28, 12.34s/it]"
     ]
    },
    {
     "name": "stdout",
     "output_type": "stream",
     "text": [
      "------------------------------\n",
      "Train Loss EPOCH 48: 3.6913\n",
      "Valid Loss EPOCH 48: 3.7076\n",
      "Train Accuracy EPOCH 48: 0.1229\n",
      "Valid Accuracy EPOCH 48: 0.1224\n",
      "------------------------------\n"
     ]
    },
    {
     "name": "stderr",
     "output_type": "stream",
     "text": [
      "100%|██████████| 88/88 [00:11<00:00,  7.63it/s]\n",
      "100%|██████████| 10/10 [00:00<00:00, 12.86it/s]\n",
      " 82%|████████▏ | 49/60 [10:03<02:15, 12.34s/it]"
     ]
    },
    {
     "name": "stdout",
     "output_type": "stream",
     "text": [
      "------------------------------\n",
      "Train Loss EPOCH 49: 3.6856\n",
      "Valid Loss EPOCH 49: 3.7016\n",
      "Train Accuracy EPOCH 49: 0.1231\n",
      "Valid Accuracy EPOCH 49: 0.1220\n",
      "------------------------------\n"
     ]
    },
    {
     "name": "stderr",
     "output_type": "stream",
     "text": [
      "100%|██████████| 88/88 [00:11<00:00,  7.66it/s]\n",
      "100%|██████████| 10/10 [00:00<00:00, 12.30it/s]\n",
      " 83%|████████▎ | 50/60 [10:15<02:03, 12.33s/it]"
     ]
    },
    {
     "name": "stdout",
     "output_type": "stream",
     "text": [
      "------------------------------\n",
      "Train Loss EPOCH 50: 3.6736\n",
      "Valid Loss EPOCH 50: 3.7128\n",
      "Train Accuracy EPOCH 50: 0.1282\n",
      "Valid Accuracy EPOCH 50: 0.1218\n",
      "------------------------------\n"
     ]
    },
    {
     "name": "stderr",
     "output_type": "stream",
     "text": [
      "100%|██████████| 88/88 [00:11<00:00,  7.64it/s]\n",
      "100%|██████████| 10/10 [00:00<00:00, 13.09it/s]\n",
      " 85%|████████▌ | 51/60 [10:27<01:50, 12.32s/it]"
     ]
    },
    {
     "name": "stdout",
     "output_type": "stream",
     "text": [
      "------------------------------\n",
      "Train Loss EPOCH 51: 3.6634\n",
      "Valid Loss EPOCH 51: 3.6859\n",
      "Train Accuracy EPOCH 51: 0.1286\n",
      "Valid Accuracy EPOCH 51: 0.1270\n",
      "------------------------------\n"
     ]
    },
    {
     "name": "stderr",
     "output_type": "stream",
     "text": [
      "100%|██████████| 88/88 [00:11<00:00,  7.66it/s]\n",
      "100%|██████████| 10/10 [00:00<00:00, 12.47it/s]\n",
      " 87%|████████▋ | 52/60 [10:40<01:38, 12.31s/it]"
     ]
    },
    {
     "name": "stdout",
     "output_type": "stream",
     "text": [
      "------------------------------\n",
      "Train Loss EPOCH 52: 3.6548\n",
      "Valid Loss EPOCH 52: 3.6857\n",
      "Train Accuracy EPOCH 52: 0.1315\n",
      "Valid Accuracy EPOCH 52: 0.1258\n",
      "------------------------------\n"
     ]
    },
    {
     "name": "stderr",
     "output_type": "stream",
     "text": [
      "100%|██████████| 88/88 [00:11<00:00,  7.63it/s]\n",
      "100%|██████████| 10/10 [00:00<00:00, 12.38it/s]\n",
      " 88%|████████▊ | 53/60 [10:52<01:26, 12.32s/it]"
     ]
    },
    {
     "name": "stdout",
     "output_type": "stream",
     "text": [
      "------------------------------\n",
      "Train Loss EPOCH 53: 3.6529\n",
      "Valid Loss EPOCH 53: 3.6981\n",
      "Train Accuracy EPOCH 53: 0.1278\n",
      "Valid Accuracy EPOCH 53: 0.1266\n",
      "------------------------------\n"
     ]
    },
    {
     "name": "stderr",
     "output_type": "stream",
     "text": [
      "100%|██████████| 88/88 [00:11<00:00,  7.65it/s]\n",
      "100%|██████████| 10/10 [00:00<00:00, 12.63it/s]\n",
      " 90%|█████████ | 54/60 [11:04<01:13, 12.32s/it]"
     ]
    },
    {
     "name": "stdout",
     "output_type": "stream",
     "text": [
      "------------------------------\n",
      "Train Loss EPOCH 54: 3.6380\n",
      "Valid Loss EPOCH 54: 3.6981\n",
      "Train Accuracy EPOCH 54: 0.1328\n",
      "Valid Accuracy EPOCH 54: 0.1250\n",
      "------------------------------\n"
     ]
    },
    {
     "name": "stderr",
     "output_type": "stream",
     "text": [
      "100%|██████████| 88/88 [00:11<00:00,  7.65it/s]\n",
      "100%|██████████| 10/10 [00:00<00:00, 12.77it/s]\n",
      " 92%|█████████▏| 55/60 [11:17<01:01, 12.31s/it]"
     ]
    },
    {
     "name": "stdout",
     "output_type": "stream",
     "text": [
      "------------------------------\n",
      "Train Loss EPOCH 55: 3.6338\n",
      "Valid Loss EPOCH 55: 3.6982\n",
      "Train Accuracy EPOCH 55: 0.1318\n",
      "Valid Accuracy EPOCH 55: 0.1244\n",
      "------------------------------\n"
     ]
    },
    {
     "name": "stderr",
     "output_type": "stream",
     "text": [
      "100%|██████████| 88/88 [00:11<00:00,  7.62it/s]\n",
      "100%|██████████| 10/10 [00:00<00:00, 12.52it/s]\n",
      " 93%|█████████▎| 56/60 [11:29<00:49, 12.33s/it]"
     ]
    },
    {
     "name": "stdout",
     "output_type": "stream",
     "text": [
      "------------------------------\n",
      "Train Loss EPOCH 56: 3.6209\n",
      "Valid Loss EPOCH 56: 3.6694\n",
      "Train Accuracy EPOCH 56: 0.1369\n",
      "Valid Accuracy EPOCH 56: 0.1286\n",
      "------------------------------\n"
     ]
    },
    {
     "name": "stderr",
     "output_type": "stream",
     "text": [
      "100%|██████████| 88/88 [00:11<00:00,  7.64it/s]\n",
      "100%|██████████| 10/10 [00:00<00:00, 12.60it/s]\n",
      " 95%|█████████▌| 57/60 [11:41<00:36, 12.33s/it]"
     ]
    },
    {
     "name": "stdout",
     "output_type": "stream",
     "text": [
      "------------------------------\n",
      "Train Loss EPOCH 57: 3.6115\n",
      "Valid Loss EPOCH 57: 3.6718\n",
      "Train Accuracy EPOCH 57: 0.1354\n",
      "Valid Accuracy EPOCH 57: 0.1288\n",
      "------------------------------\n"
     ]
    },
    {
     "name": "stderr",
     "output_type": "stream",
     "text": [
      "100%|██████████| 88/88 [00:11<00:00,  7.65it/s]\n",
      "100%|██████████| 10/10 [00:00<00:00, 11.18it/s]\n",
      " 97%|█████████▋| 58/60 [11:54<00:24, 12.35s/it]"
     ]
    },
    {
     "name": "stdout",
     "output_type": "stream",
     "text": [
      "------------------------------\n",
      "Train Loss EPOCH 58: 3.6081\n",
      "Valid Loss EPOCH 58: 3.6487\n",
      "Train Accuracy EPOCH 58: 0.1363\n",
      "Valid Accuracy EPOCH 58: 0.1316\n",
      "------------------------------\n"
     ]
    },
    {
     "name": "stderr",
     "output_type": "stream",
     "text": [
      "100%|██████████| 88/88 [00:11<00:00,  7.59it/s]\n",
      "100%|██████████| 10/10 [00:00<00:00, 12.85it/s]\n",
      " 98%|█████████▊| 59/60 [12:06<00:12, 12.36s/it]"
     ]
    },
    {
     "name": "stdout",
     "output_type": "stream",
     "text": [
      "------------------------------\n",
      "Train Loss EPOCH 59: 3.5963\n",
      "Valid Loss EPOCH 59: 3.6377\n",
      "Train Accuracy EPOCH 59: 0.1394\n",
      "Valid Accuracy EPOCH 59: 0.1350\n",
      "------------------------------\n"
     ]
    },
    {
     "name": "stderr",
     "output_type": "stream",
     "text": [
      "100%|██████████| 88/88 [00:11<00:00,  7.63it/s]\n",
      "100%|██████████| 10/10 [00:00<00:00, 12.96it/s]\n",
      "100%|██████████| 60/60 [12:18<00:00, 12.32s/it]"
     ]
    },
    {
     "name": "stdout",
     "output_type": "stream",
     "text": [
      "------------------------------\n",
      "Train Loss EPOCH 60: 3.5911\n",
      "Valid Loss EPOCH 60: 3.6424\n",
      "Train Accuracy EPOCH 60: 0.1405\n",
      "Valid Accuracy EPOCH 60: 0.1346\n",
      "------------------------------\n",
      "Training Time: 738.99s\n"
     ]
    },
    {
     "name": "stderr",
     "output_type": "stream",
     "text": [
      "\n"
     ]
    }
   ],
   "source": [
    "\n",
    "criterion = nn.CrossEntropyLoss()\n",
    "optimizer = optim.Adam(model.parameters(), betas=ADAM_BETAS, lr=LEARNING_RATE, weight_decay=ADAM_WEIGHT_DECAY)\n",
    "\n",
    "start = timeit.default_timer()\n",
    "\n",
    "for epoch in tqdm(range(EPOCHS), position=0, leave=True):\n",
    "    model.train()\n",
    "    train_correct, train_total, train_running_loss = 0, 0, 0\n",
    "\n",
    "    for idx, (img, label) in enumerate(tqdm(train_loader, position=0, leave=True)):\n",
    "        img, label = img.to(device), label.to(device, dtype=torch.long)   \n",
    "\n",
    "        y_pred = model(img)\n",
    "        loss = criterion(y_pred, label)\n",
    "\n",
    "        optimizer.zero_grad()\n",
    "        loss.backward()\n",
    "        optimizer.step()\n",
    "\n",
    "        train_running_loss += loss.item()\n",
    "\n",
    "       \n",
    "        y_pred_label = torch.argmax(y_pred, dim=1)\n",
    "        train_correct += (y_pred_label == label).sum().item()\n",
    "        train_total += label.size(0)\n",
    "\n",
    "    train_loss = train_running_loss / (idx + 1)\n",
    "    train_accuracy = train_correct / train_total\n",
    "\n",
    "    \n",
    "    model.eval()\n",
    "    val_correct, val_total, val_running_loss = 0, 0, 0\n",
    "\n",
    "    with torch.no_grad():\n",
    "        for idx, (img, label) in enumerate(tqdm(val_loader, position=0, leave=True)):\n",
    "            img, label = img.to(device), label.to(device, dtype=torch.long)\n",
    "\n",
    "            y_pred = model(img)\n",
    "            loss = criterion(y_pred, label)\n",
    "            val_running_loss += loss.item()\n",
    "\n",
    "            \n",
    "            y_pred_label = torch.argmax(y_pred, dim=1)\n",
    "            val_correct += (y_pred_label == label).sum().item()\n",
    "            val_total += label.size(0)\n",
    "\n",
    "    val_loss = val_running_loss / (idx + 1)\n",
    "    val_accuracy = val_correct / val_total\n",
    "\n",
    "    print(\"-\" * 30)\n",
    "    print(f\"Train Loss EPOCH {epoch+1}: {train_loss:.4f}\")\n",
    "    print(f\"Valid Loss EPOCH {epoch+1}: {val_loss:.4f}\")\n",
    "    print(f\"Train Accuracy EPOCH {epoch+1}: {train_accuracy:.4f}\")\n",
    "    print(f\"Valid Accuracy EPOCH {epoch+1}: {val_accuracy:.4f}\")\n",
    "    print(\"-\" * 30)\n",
    "\n",
    "stop = timeit.default_timer()\n",
    "print(f\"Training Time: {stop-start:.2f}s\")"
   ]
  },
  {
   "cell_type": "code",
   "execution_count": 9,
   "id": "f5a0d77c",
   "metadata": {
    "execution": {
     "iopub.execute_input": "2025-01-30T12:54:01.340920Z",
     "iopub.status.busy": "2025-01-30T12:54:01.340558Z",
     "iopub.status.idle": "2025-01-30T12:54:01.393773Z",
     "shell.execute_reply": "2025-01-30T12:54:01.393075Z"
    },
    "id": "Ci4Oe6zFrrAE",
    "papermill": {
     "duration": 0.3224,
     "end_time": "2025-01-30T12:54:01.395387",
     "exception": false,
     "start_time": "2025-01-30T12:54:01.072987",
     "status": "completed"
    },
    "tags": []
   },
   "outputs": [],
   "source": [
    "torch.cuda.empty_cache()"
   ]
  },
  {
   "cell_type": "markdown",
   "id": "7def6e6e",
   "metadata": {
    "id": "iFOi2liGunwH",
    "papermill": {
     "duration": 0.272789,
     "end_time": "2025-01-30T12:54:01.984172",
     "exception": false,
     "start_time": "2025-01-30T12:54:01.711383",
     "status": "completed"
    },
    "tags": []
   },
   "source": [
    "### Evaluation the model"
   ]
  },
  {
   "cell_type": "code",
   "execution_count": 10,
   "id": "64f3c7af",
   "metadata": {
    "execution": {
     "iopub.execute_input": "2025-01-30T12:54:02.518914Z",
     "iopub.status.busy": "2025-01-30T12:54:02.518584Z",
     "iopub.status.idle": "2025-01-30T12:54:03.901775Z",
     "shell.execute_reply": "2025-01-30T12:54:03.900765Z"
    },
    "id": "ZLLvETdqrrAE",
    "papermill": {
     "duration": 1.651541,
     "end_time": "2025-01-30T12:54:03.903072",
     "exception": false,
     "start_time": "2025-01-30T12:54:02.251531",
     "status": "completed"
    },
    "tags": []
   },
   "outputs": [
    {
     "name": "stderr",
     "output_type": "stream",
     "text": [
      "100%|██████████| 20/20 [00:01<00:00, 14.56it/s]\n"
     ]
    }
   ],
   "source": [
    "labels = []\n",
    "imgs = []\n",
    "model.eval()\n",
    "with torch.no_grad():\n",
    "    for img, _ in tqdm(test_loader, position=0, leave=True):  \n",
    "        img = img.to(device)\n",
    "        outputs = model(img)\n",
    "\n",
    "   \n",
    "        labels.extend(torch.argmax(outputs, dim=1).cpu().tolist())  "
   ]
  },
  {
   "cell_type": "code",
   "execution_count": 11,
   "id": "c63e62c8",
   "metadata": {
    "execution": {
     "iopub.execute_input": "2025-01-30T12:54:04.502037Z",
     "iopub.status.busy": "2025-01-30T12:54:04.501669Z",
     "iopub.status.idle": "2025-01-30T12:54:05.431098Z",
     "shell.execute_reply": "2025-01-30T12:54:05.430173Z"
    },
    "id": "DUddafu8rrAE",
    "papermill": {
     "duration": 1.210217,
     "end_time": "2025-01-30T12:54:05.432595",
     "exception": false,
     "start_time": "2025-01-30T12:54:04.222378",
     "status": "completed"
    },
    "tags": []
   },
   "outputs": [
    {
     "data": {
      "text/plain": [
       "<Figure size 640x480 with 0 Axes>"
      ]
     },
     "metadata": {},
     "output_type": "display_data"
    },
    {
     "data": {
      "image/png": "[encoded data removed]",
      "text/plain": [
       "<Figure size 1000x600 with 6 Axes>"
      ]
     },
     "metadata": {},
     "output_type": "display_data"
    }
   ],
   "source": [
    "\n",
    "test_samples, _ = next(iter(test_loader)) \n",
    "test_samples = test_samples[:6]  \n",
    "\n",
    "\n",
    "model.eval()\n",
    "with torch.no_grad():\n",
    "    outputs = model(test_samples.to(device))\n",
    "    predictions = torch.argmax(outputs, dim=1).cpu().tolist()\n",
    "\n",
    "\n",
    "plt.figure()\n",
    "f, axarr = plt.subplots(2, 3, figsize=(10, 6))  \n",
    "counter = 0\n",
    "for i in range(2):\n",
    "    for j in range(3):\n",
    "        img = test_samples[counter].permute(1, 2, 0).numpy()  \n",
    "        img = (img * np.array([0.2675, 0.2565, 0.2761])) + np.array([0.5071, 0.4867, 0.4408])  \n",
    "        img = img.clip(0, 1)  \n",
    "\n",
    "        axarr[i][j].imshow(img)  \n",
    "        axarr[i][j].set_title(f\"Predicted {predictions[counter]}\")\n",
    "        axarr[i][j].axis(\"off\")  \n",
    "        counter += 1\n",
    "\n",
    "plt.show()"
   ]
  }
 ],
 "metadata": {
  "colab": {
   "collapsed_sections": [
    "reIg4vB6unwB",
    "WnV9AIn9unwC",
    "ozjlaoBsunwD",
    "WOQ5kJTvunwE",
    "sf4ikd3yunwF",
    "6I-slbQiunwG"
   ],
   "provenance": []
  },
  "kaggle": {
   "accelerator": "gpu",
   "dataSources": [
    {
     "datasetId": 6572824,
     "sourceId": 10616314,
     "sourceType": "datasetVersion"
    }
   ],
   "dockerImageVersionId": 30839,
   "isGpuEnabled": true,
   "isInternetEnabled": false,
   "language": "python",
   "sourceType": "notebook"
  },
  "kernelspec": {
   "display_name": "Python 3",
   "language": "python",
   "name": "python3"
  },
  "language_info": {
   "codemirror_mode": {
    "name": "ipython",
    "version": 3
   },
   "file_extension": ".py",
   "mimetype": "text/x-python",
   "name": "python",
   "nbconvert_exporter": "python",
   "pygments_lexer": "ipython3",
   "version": "3.10.12"
  },
  "papermill": {
   "default_parameters": {},
   "duration": 762.288574,
   "end_time": "2025-01-30T12:54:08.172981",
   "environment_variables": {},
   "exception": null,
   "input_path": "__notebook__.ipynb",
   "output_path": "__notebook__.ipynb",
   "parameters": {},
   "start_time": "2025-01-30T12:41:25.884407",
   "version": "2.6.0"
  }
 },
 "nbformat": 4,
 "nbformat_minor": 5
}
